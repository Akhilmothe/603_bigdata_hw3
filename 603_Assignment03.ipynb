{
 "cells": [
  {
   "cell_type": "markdown",
   "id": "21184873",
   "metadata": {},
   "source": [
    "## 1.Create a Spark session"
   ]
  },
  {
   "cell_type": "code",
   "execution_count": 1,
   "id": "4cf98e49",
   "metadata": {
    "scrolled": true
   },
   "outputs": [
    {
     "name": "stdout",
     "output_type": "stream",
     "text": [
      "Requirement already satisfied: pyspark in c:\\users\\akhil mothe\\anaconda3\\lib\\site-packages (3.5.0)\n",
      "Requirement already satisfied: py4j==0.10.9.7 in c:\\users\\akhil mothe\\anaconda3\\lib\\site-packages (from pyspark) (0.10.9.7)\n"
     ]
    }
   ],
   "source": [
    "!pip install pyspark"
   ]
  },
  {
   "cell_type": "code",
   "execution_count": 2,
   "id": "d019abd9",
   "metadata": {},
   "outputs": [],
   "source": [
    "from pyspark.sql import SparkSession"
   ]
  },
  {
   "cell_type": "code",
   "execution_count": 3,
   "id": "5dbb80ec",
   "metadata": {},
   "outputs": [],
   "source": [
    "spark = SparkSession.builder.appName(\"ChicagoCrimeAnalysis\").getOrCreate()"
   ]
  },
  {
   "cell_type": "code",
   "execution_count": 4,
   "id": "687341a9",
   "metadata": {},
   "outputs": [
    {
     "data": {
      "text/html": [
       "\n",
       "            <div>\n",
       "                <p><b>SparkSession - in-memory</b></p>\n",
       "                \n",
       "        <div>\n",
       "            <p><b>SparkContext</b></p>\n",
       "\n",
       "            <p><a href=\"http://LAPTOP-7Q9DNV9S:4040\">Spark UI</a></p>\n",
       "\n",
       "            <dl>\n",
       "              <dt>Version</dt>\n",
       "                <dd><code>v3.5.0</code></dd>\n",
       "              <dt>Master</dt>\n",
       "                <dd><code>local[*]</code></dd>\n",
       "              <dt>AppName</dt>\n",
       "                <dd><code>ChicagoCrimeAnalysis</code></dd>\n",
       "            </dl>\n",
       "        </div>\n",
       "        \n",
       "            </div>\n",
       "        "
      ],
      "text/plain": [
       "<pyspark.sql.session.SparkSession at 0x173453be730>"
      ]
     },
     "execution_count": 4,
     "metadata": {},
     "output_type": "execute_result"
    }
   ],
   "source": [
    "spark"
   ]
  },
  {
   "cell_type": "markdown",
   "id": "a3633477",
   "metadata": {},
   "source": [
    "## 2.Define the schema for loading the Chicago crime dataset (https://data.cityofchicago.org/Public-Safety/Crimes-2001-to-Present/ijzp-q8t2/data)."
   ]
  },
  {
   "cell_type": "code",
   "execution_count": 5,
   "id": "effd2f0b",
   "metadata": {},
   "outputs": [],
   "source": [
    "from pyspark.sql.types import StructType, StructField, StringType, IntegerType, DoubleType, FloatType, TimestampType, BooleanType"
   ]
  },
  {
   "cell_type": "code",
   "execution_count": 6,
   "id": "b03031b5",
   "metadata": {},
   "outputs": [],
   "source": [
    "\n",
    "#Defining the schema for the Chicago crime dataset\n",
    "crime_schema = StructType([\n",
    "    StructField(\"ID\", IntegerType(), True),\n",
    "    StructField(\"CaseNumber\", StringType(), True),\n",
    "    StructField(\"Date\", StringType(), True),\n",
    "    StructField(\"Block\", StringType(), True),\n",
    "    StructField(\"IUCR\", StringType(), True),\n",
    "    StructField(\"PrimaryType\", StringType(), True),\n",
    "    StructField(\"Description\", StringType(), True),\n",
    "    StructField(\"LocationDescription\", StringType(), True),\n",
    "    StructField(\"Arrest\", BooleanType(), True),\n",
    "    StructField(\"Domestic\", BooleanType(), True),\n",
    "    StructField(\"Beat\", IntegerType(), True),\n",
    "    StructField(\"District\", IntegerType(), True),\n",
    "    StructField(\"Ward\", IntegerType(), True),\n",
    "    StructField(\"CommunityArea\", IntegerType(), True),\n",
    "    StructField(\"FBICode\", StringType(), True),\n",
    "    StructField(\"XCoordinate\", IntegerType(), True),\n",
    "    StructField(\"YCoordinate\", IntegerType(), True),\n",
    "    StructField(\"Year\", IntegerType(), True),\n",
    "    StructField(\"UpdatedOn\", StringType(), True),\n",
    "    StructField(\"Latitude\", DoubleType(), True),\n",
    "    StructField(\"Longitude\", DoubleType(), True),\n",
    "    StructField(\"Location\", StringType(), True)\n",
    "])\n",
    "\n",
    "\n"
   ]
  },
  {
   "cell_type": "markdown",
   "id": "29f409a8",
   "metadata": {},
   "source": [
    "## 3.Load the Chicago crime data (you should get more than a million rows)."
   ]
  },
  {
   "cell_type": "code",
   "execution_count": 7,
   "id": "7fe8f26f",
   "metadata": {},
   "outputs": [],
   "source": [
    "dataframe = spark.read.format(\"csv\").option(\"header\", \"true\").option(\"delimiter\", \",\").schema(crime_schema).load(\"Crimes_-_2001_to_Present.csv\")\n"
   ]
  },
  {
   "cell_type": "code",
   "execution_count": 8,
   "id": "881d2f0b",
   "metadata": {},
   "outputs": [
    {
     "data": {
      "text/plain": [
       "['ID',\n",
       " 'CaseNumber',\n",
       " 'Date',\n",
       " 'Block',\n",
       " 'IUCR',\n",
       " 'PrimaryType',\n",
       " 'Description',\n",
       " 'LocationDescription',\n",
       " 'Arrest',\n",
       " 'Domestic',\n",
       " 'Beat',\n",
       " 'District',\n",
       " 'Ward',\n",
       " 'CommunityArea',\n",
       " 'FBICode',\n",
       " 'XCoordinate',\n",
       " 'YCoordinate',\n",
       " 'Year',\n",
       " 'UpdatedOn',\n",
       " 'Latitude',\n",
       " 'Longitude',\n",
       " 'Location']"
      ]
     },
     "execution_count": 8,
     "metadata": {},
     "output_type": "execute_result"
    }
   ],
   "source": [
    "dataframe.columns"
   ]
  },
  {
   "cell_type": "code",
   "execution_count": 9,
   "id": "73e5f858",
   "metadata": {},
   "outputs": [
    {
     "name": "stdout",
     "output_type": "stream",
     "text": [
      "+--------+----------+--------------------+--------------------+----+------------------+--------------------+--------------------+------+--------+----+--------+----+-------------+-------+-----------+-----------+----+--------------------+------------+-------------+--------------------+\n",
      "|      ID|CaseNumber|                Date|               Block|IUCR|       PrimaryType|         Description| LocationDescription|Arrest|Domestic|Beat|District|Ward|CommunityArea|FBICode|XCoordinate|YCoordinate|Year|           UpdatedOn|    Latitude|    Longitude|            Location|\n",
      "+--------+----------+--------------------+--------------------+----+------------------+--------------------+--------------------+------+--------+----+--------+----+-------------+-------+-----------+-----------+----+--------------------+------------+-------------+--------------------+\n",
      "|11037294|  JA371270|03/18/2015 12:00:...|   0000X W WACKER DR|1153|DECEPTIVE PRACTICE|FINANCIAL IDENTIT...|                BANK| false|   false| 111|       1|  42|           32|     11|       NULL|       NULL|2015|08/01/2017 03:52:...|        NULL|         NULL|                NULL|\n",
      "|11646293|  JC213749|12/20/2018 03:00:...|023XX N LOCKWOOD AVE|1154|DECEPTIVE PRACTICE|FINANCIAL IDENTIT...|           APARTMENT| false|   false|2515|      25|  36|           19|     11|       NULL|       NULL|2018|04/06/2019 04:04:...|        NULL|         NULL|                NULL|\n",
      "|11645836|  JC212333|05/01/2016 12:25:...| 055XX S ROCKWELL ST|1153|DECEPTIVE PRACTICE|FINANCIAL IDENTIT...|                NULL| false|   false| 824|       8|  15|           63|     11|       NULL|       NULL|2016|04/06/2019 04:04:...|        NULL|         NULL|                NULL|\n",
      "|11645959|  JC211511|12/20/2018 04:00:...|  045XX N ALBANY AVE|2820|     OTHER OFFENSE|    TELEPHONE THREAT|           RESIDENCE| false|   false|1724|      17|  33|           14|    08A|       NULL|       NULL|2018|04/06/2019 04:04:...|        NULL|         NULL|                NULL|\n",
      "|11645601|  JC212935|06/01/2014 12:01:...| 087XX S SANGAMON ST|1153|DECEPTIVE PRACTICE|FINANCIAL IDENTIT...|           RESIDENCE| false|   false|2222|      22|  21|           71|     11|       NULL|       NULL|2014|04/06/2019 04:04:...|        NULL|         NULL|                NULL|\n",
      "|11646166|  JC213529|09/01/2018 12:01:...|082XX S INGLESIDE...|0810|             THEFT|           OVER $500|           RESIDENCE| false|    true| 631|       6|   8|           44|     06|       NULL|       NULL|2018|04/06/2019 04:04:...|        NULL|         NULL|                NULL|\n",
      "|11645648|  JC212959|01/01/2018 08:00:...| 024XX N MONITOR AVE|1153|DECEPTIVE PRACTICE|FINANCIAL IDENTIT...|           RESIDENCE| false|   false|2515|      25|  30|           19|     11|       NULL|       NULL|2018|04/06/2019 04:04:...|        NULL|         NULL|                NULL|\n",
      "|11645557|  JC212685|04/01/2018 12:01:...|  080XX S VERNON AVE|1153|DECEPTIVE PRACTICE|FINANCIAL IDENTIT...|           RESIDENCE| false|   false| 631|       6|   6|           44|     11|       NULL|       NULL|2018|04/06/2019 04:04:...|        NULL|         NULL|                NULL|\n",
      "|11645527|  JC212744|02/02/2015 10:00:...|  069XX W ARCHER AVE|1153|DECEPTIVE PRACTICE|FINANCIAL IDENTIT...|               OTHER| false|   false| 811|       8|  23|           56|     11|       NULL|       NULL|2015|04/06/2019 04:04:...|        NULL|         NULL|                NULL|\n",
      "|11645833|  JC213044|05/05/2012 12:25:...|     057XX W OHIO ST|1153|DECEPTIVE PRACTICE|FINANCIAL IDENTIT...|                NULL| false|   false|1511|      15|  29|           25|     11|       NULL|       NULL|2012|04/06/2019 04:04:...|        NULL|         NULL|                NULL|\n",
      "|11645568|  JC212803|12/18/2018 11:00:...|  032XX N WILTON AVE|1153|DECEPTIVE PRACTICE|FINANCIAL IDENTIT...|           RESIDENCE| false|   false|1924|      19|  44|            6|     11|       NULL|       NULL|2018|04/06/2019 04:04:...|        NULL|         NULL|                NULL|\n",
      "|12045583|  JD226426|05/07/2020 10:24:...| 035XX S INDIANA AVE|0820|             THEFT|      $500 AND UNDER|           APARTMENT| false|   false| 212|       2|   3|           35|     06|    1178180|    1881621|2020|05/14/2020 08:47:...|41.830481843|-87.621751752|(41.830481843, -8...|\n",
      "|12031001|  JD209965|04/16/2020 05:00:...|     005XX W 32ND ST|0460|           BATTERY|              SIMPLE|           APARTMENT|  true|   false| 915|       9|  11|           60|    08B|    1173292|    1883705|2020|04/23/2020 03:45:...|41.836310224|-87.639624112|(41.836310224, -8...|\n",
      "|12093529|  JD282112|07/01/2020 10:16:...|   081XX S COLES AVE|051A|           ASSAULT|AGGRAVATED - HANDGUN|              STREET|  true|   false| 422|       4|   7|           46|    04A|    1198234|    1851595|2020|07/08/2020 03:41:...|41.747609555|-87.549179329|(41.747609555, -8...|\n",
      "|12178140|  JD381597|09/27/2020 11:29:...| 065XX S WOLCOTT AVE|0460|           BATTERY|              SIMPLE|RESIDENCE - PORCH...| false|   false| 726|       7|  15|           67|    08B|    1164812|    1861251|2020|10/04/2020 03:43:...| 41.77487752|-87.671374872|(41.77487752, -87...|\n",
      "| 4144897|  HL474854|07/10/2005 03:00:...| 062XX S ABERDEEN ST|0430|           BATTERY|AGGRAVATED: OTHER...|              STREET| false|   false| 712|       7|  16|           68|    04B|    1170050|    1863524|2005|02/28/2018 03:56:...|41.781002663|-87.652107119|(41.781002663, -8...|\n",
      "| 1744168|   G553545|09/15/2001 02:00:...|     013XX W POLK ST|0460|           BATTERY|              SIMPLE|              STREET| false|   false|1213|      12|NULL|         NULL|    08B|       NULL|       NULL|2001|08/17/2015 03:03:...|        NULL|         NULL|                NULL|\n",
      "|11641644|  JC207234|03/31/2019 09:30:...|   005XX N ogden ave|0890|             THEFT|       FROM BUILDING|          RESTAURANT| false|   false|1215|      12|   1|           24|     06|       NULL|       NULL|2019|04/07/2019 04:05:...|        NULL|         NULL|                NULL|\n",
      "|11615821|  JC176668|01/01/2016 12:00:...| 054XX N NATCHEZ AVE|1195|DECEPTIVE PRACTICE|FINAN EXPLOIT-ELD...|           RESIDENCE| false|    true|1613|      16|  45|           10|     11|       NULL|       NULL|2016|03/08/2019 04:36:...|        NULL|         NULL|                NULL|\n",
      "|12126129|  JD321064|08/04/2020 08:28:...| 081XX S LOOMIS BLVD|143A| WEAPONS VIOLATION|UNLAWFUL POSSESSI...|              STREET|  true|   false| 613|       6|  21|           71|     15|    1168412|    1850836|2020|08/11/2020 03:42:...|41.746220584|-87.658477307|(41.746220584, -8...|\n",
      "+--------+----------+--------------------+--------------------+----+------------------+--------------------+--------------------+------+--------+----+--------+----+-------------+-------+-----------+-----------+----+--------------------+------------+-------------+--------------------+\n",
      "only showing top 20 rows\n",
      "\n"
     ]
    }
   ],
   "source": [
    "dataframe.show()"
   ]
  },
  {
   "cell_type": "markdown",
   "id": "137f37b4",
   "metadata": {},
   "source": [
    "## 4.Clean the data:\n"
   ]
  },
  {
   "cell_type": "markdown",
   "id": "05b1b3fa",
   "metadata": {},
   "source": [
    "### a. Remove all null values.\n"
   ]
  },
  {
   "cell_type": "code",
   "execution_count": 10,
   "id": "23567999",
   "metadata": {},
   "outputs": [
    {
     "name": "stdout",
     "output_type": "stream",
     "text": [
      "Column 'LocationDescription' has 11937 null values.\n",
      "Column 'District' has 47 null values.\n",
      "Column 'Ward' has 614849 null values.\n",
      "Column 'CommunityArea' has 613476 null values.\n",
      "Column 'XCoordinate' has 90138 null values.\n",
      "Column 'YCoordinate' has 90138 null values.\n",
      "Column 'Latitude' has 90138 null values.\n",
      "Column 'Longitude' has 90138 null values.\n",
      "Column 'Location' has 90138 null values.\n"
     ]
    }
   ],
   "source": [
    "from pyspark.sql.functions import col, count, when\n",
    "\n",
    "# Use a list comprehension to count null values for each column\n",
    "null_counts = [count(when(col(c).isNull(), c)).alias(c) for c in dataframe.columns]\n",
    "\n",
    "# Use the agg function to summarize the counts for all columns\n",
    "result = dataframe.agg(*null_counts)\n",
    "\n",
    "# Collect the result as a single row\n",
    "null_counts_row = result.collect()[0]\n",
    "\n",
    "# Show the columns with null values and their counts\n",
    "for col_name in dataframe.columns:\n",
    "    count = null_counts_row[col_name]\n",
    "    if count > 0:\n",
    "        print(f\"Column '{col_name}' has {count} null values.\")\n"
   ]
  },
  {
   "cell_type": "code",
   "execution_count": 11,
   "id": "a9dbd02f",
   "metadata": {},
   "outputs": [
    {
     "name": "stdout",
     "output_type": "stream",
     "text": [
      "+--------+----------+--------------------+--------------------+----+--------------------+--------------------+--------------------+------+--------+----+--------+----+-------------+-------+-----------+-----------+----+--------------------+------------+-------------+--------------------+\n",
      "|      ID|CaseNumber|                Date|               Block|IUCR|         PrimaryType|         Description| LocationDescription|Arrest|Domestic|Beat|District|Ward|CommunityArea|FBICode|XCoordinate|YCoordinate|Year|           UpdatedOn|    Latitude|    Longitude|            Location|\n",
      "+--------+----------+--------------------+--------------------+----+--------------------+--------------------+--------------------+------+--------+----+--------+----+-------------+-------+-----------+-----------+----+--------------------+------------+-------------+--------------------+\n",
      "|12045583|  JD226426|05/07/2020 10:24:...| 035XX S INDIANA AVE|0820|               THEFT|      $500 AND UNDER|           APARTMENT| false|   false| 212|       2|   3|           35|     06|    1178180|    1881621|2020|05/14/2020 08:47:...|41.830481843|-87.621751752|(41.830481843, -8...|\n",
      "|12031001|  JD209965|04/16/2020 05:00:...|     005XX W 32ND ST|0460|             BATTERY|              SIMPLE|           APARTMENT|  true|   false| 915|       9|  11|           60|    08B|    1173292|    1883705|2020|04/23/2020 03:45:...|41.836310224|-87.639624112|(41.836310224, -8...|\n",
      "|12093529|  JD282112|07/01/2020 10:16:...|   081XX S COLES AVE|051A|             ASSAULT|AGGRAVATED - HANDGUN|              STREET|  true|   false| 422|       4|   7|           46|    04A|    1198234|    1851595|2020|07/08/2020 03:41:...|41.747609555|-87.549179329|(41.747609555, -8...|\n",
      "|12178140|  JD381597|09/27/2020 11:29:...| 065XX S WOLCOTT AVE|0460|             BATTERY|              SIMPLE|RESIDENCE - PORCH...| false|   false| 726|       7|  15|           67|    08B|    1164812|    1861251|2020|10/04/2020 03:43:...| 41.77487752|-87.671374872|(41.77487752, -87...|\n",
      "| 4144897|  HL474854|07/10/2005 03:00:...| 062XX S ABERDEEN ST|0430|             BATTERY|AGGRAVATED: OTHER...|              STREET| false|   false| 712|       7|  16|           68|    04B|    1170050|    1863524|2005|02/28/2018 03:56:...|41.781002663|-87.652107119|(41.781002663, -8...|\n",
      "|12126129|  JD321064|08/04/2020 08:28:...| 081XX S LOOMIS BLVD|143A|   WEAPONS VIOLATION|UNLAWFUL POSSESSI...|              STREET|  true|   false| 613|       6|  21|           71|     15|    1168412|    1850836|2020|08/11/2020 03:42:...|41.746220584|-87.658477307|(41.746220584, -8...|\n",
      "|12010314|  JD186932|03/15/2020 09:00:...|    051XX W HURON ST|2820|       OTHER OFFENSE|    TELEPHONE THREAT|           APARTMENT| false|   false|1531|      15|  37|           25|    08A|    1141763|    1904131|2020|03/22/2020 03:41:...|41.893002363|-87.754811709|(41.893002363, -8...|\n",
      "|12067286|  JD251718|06/02/2020 10:00:...| 042XX S EMERALD AVE|0820|               THEFT|      $500 AND UNDER|              STREET|  true|   false| 925|       9|  11|           61|     06|    1172009|    1876708|2020|06/09/2020 03:43:...|41.817138145|-87.644537728|(41.817138145, -8...|\n",
      "| 4229528|  HL545852|08/12/2005 11:00:...|063XX S COTTAGE G...|3730|INTERFERENCE WITH...| OBSTRUCTING JUSTICE|            SIDEWALK|  true|   false| 312|       3|  20|           42|     24|    1182654|    1863077|2005|02/28/2018 03:56:...|41.779492755|-87.605912536|(41.779492755, -8...|\n",
      "|12163191|  JD364357|09/11/2020 10:44:...|008XX N TRUMBULL AVE|0486|             BATTERY|DOMESTIC BATTERY ...|           RESIDENCE|  true|    true|1121|      11|  27|           23|    08B|    1153223|    1905475|2020|09/07/2021 03:41:...|41.896470682|-87.712687444|(41.896470682, -8...|\n",
      "|12142075|  JD339709|08/21/2020 12:00:...|015XX N MILWAUKEE...|0420|             BATTERY|AGGRAVATED - KNIF...|            SIDEWALK| false|   false|1424|      14|   1|           24|    04B|    1163078|    1910357|2020|08/28/2020 03:42:...| 41.90966592|-87.676354472|(41.90966592, -87...|\n",
      "|12005594|  JD181480|03/11/2020 12:00:...|     040XX W 26TH ST|0860|               THEFT|        RETAIL THEFT|  SMALL RETAIL STORE| false|   false|1031|      10|  22|           30|     06|    1150021|    1886423|2020|03/18/2020 03:41:...|41.844252757|-87.724943845|(41.844252757, -8...|\n",
      "|12070567|  JD249245|06/01/2020 01:20:...|024XX N MILWAUKEE...|0620|            BURGLARY|      UNLAWFUL ENTRY|  SMALL RETAIL STORE| false|   false|1414|      14|   1|           22|     05|    1156086|    1916141|2020|07/06/2020 03:40:...|41.925681769|-87.701883719|(41.925681769, -8...|\n",
      "|12057551|  JD240361|05/23/2020 12:20:...| 068XX S LOOMIS BLVD|0486|             BATTERY|DOMESTIC BATTERY ...|              STREET| false|    true| 724|       7|  17|           67|    08B|    1168179|    1859299|2020|09/07/2021 03:41:...|41.769449202|-87.659088027|(41.769449202, -8...|\n",
      "|12057185|  JD239952|05/22/2020 10:29:...|   0000X N LOREL AVE|2024|           NARCOTICS|POSSESS - HEROIN ...|              STREET|  true|   false|1522|      15|  28|           25|     18|    1140721|    1899686|2020|05/29/2020 03:41:...|41.880823946|-87.758747941|(41.880823946, -8...|\n",
      "|12107263|  JD298884|07/15/2020 10:15:...| 070XX S CHAPPEL AVE|0560|             ASSAULT|              SIMPLE|           APARTMENT| false|    true| 331|       3|   5|           43|    08A|    1191099|    1858560|2020|07/22/2020 03:42:...|41.766897557|-87.575098672|(41.766897557, -8...|\n",
      "|12178347|  JD382022|09/28/2020 10:23:...|038XX W JACKSON BLVD|2820|       OTHER OFFENSE|    TELEPHONE THREAT|     OTHER (SPECIFY)| false|   false|1133|      11|  28|           26|    08A|    1150770|    1898411|2020|10/05/2020 03:40:...|41.877134658|-87.721881801|(41.877134658, -8...|\n",
      "|12164381|  JD361415|09/09/2020 09:23:...|  081XX S VERNON AVE|0560|             ASSAULT|              SIMPLE|           RESIDENCE| false|   false| 631|       6|   6|           44|    08A|    1180660|    1851072|2020|09/16/2020 03:41:...|41.746595831|-87.613590958|(41.746595831, -8...|\n",
      "|12072697|  JD257284|06/06/2020 07:45:...|065XX S UNIVERSIT...|2820|       OTHER OFFENSE|    TELEPHONE THREAT|     OTHER (SPECIFY)| false|   false| 321|       3|   5|           42|    08A|    1184679|    1861785|2020|06/13/2020 03:42:...|41.775900146|-87.598529213|(41.775900146, -8...|\n",
      "|12126191|  JD321188|08/05/2020 01:00:...|025XX S MICHIGAN AVE|0454|             BATTERY|AGGRAVATED P.O. -...|HOSPITAL BUILDING...|  true|   false| 133|       1|   4|           33|    08B|    1177647|    1887564|2020|08/12/2020 03:41:...|41.846801978|-87.623527134|(41.846801978, -8...|\n",
      "+--------+----------+--------------------+--------------------+----+--------------------+--------------------+--------------------+------+--------+----+--------+----+-------------+-------+-----------+-----------+----+--------------------+------------+-------------+--------------------+\n",
      "only showing top 20 rows\n",
      "\n"
     ]
    }
   ],
   "source": [
    "dataframe = dataframe.na.drop()\n",
    "\n",
    "#Showing the modified 'dataframe' DataFrame\n",
    "dataframe.show()\n"
   ]
  },
  {
   "cell_type": "markdown",
   "id": "8a5caafa",
   "metadata": {},
   "source": [
    "### b. Change 'Date' column data type"
   ]
  },
  {
   "cell_type": "code",
   "execution_count": 12,
   "id": "84ac5208",
   "metadata": {},
   "outputs": [],
   "source": [
    "from pyspark.sql.functions import to_timestamp\n",
    "\n",
    "#Changing 'Date' column data type\n",
    "dataframe = dataframe.withColumn(\"Date\", to_timestamp(dataframe[\"Date\"], \"MM/dd/yyyy hh:mm:ss a\"))\n"
   ]
  },
  {
   "cell_type": "code",
   "execution_count": 13,
   "id": "b0e7b23e",
   "metadata": {},
   "outputs": [
    {
     "name": "stdout",
     "output_type": "stream",
     "text": [
      "root\n",
      " |-- ID: integer (nullable = true)\n",
      " |-- CaseNumber: string (nullable = true)\n",
      " |-- Date: timestamp (nullable = true)\n",
      " |-- Block: string (nullable = true)\n",
      " |-- IUCR: string (nullable = true)\n",
      " |-- PrimaryType: string (nullable = true)\n",
      " |-- Description: string (nullable = true)\n",
      " |-- LocationDescription: string (nullable = true)\n",
      " |-- Arrest: boolean (nullable = true)\n",
      " |-- Domestic: boolean (nullable = true)\n",
      " |-- Beat: integer (nullable = true)\n",
      " |-- District: integer (nullable = true)\n",
      " |-- Ward: integer (nullable = true)\n",
      " |-- CommunityArea: integer (nullable = true)\n",
      " |-- FBICode: string (nullable = true)\n",
      " |-- XCoordinate: integer (nullable = true)\n",
      " |-- YCoordinate: integer (nullable = true)\n",
      " |-- Year: integer (nullable = true)\n",
      " |-- UpdatedOn: string (nullable = true)\n",
      " |-- Latitude: double (nullable = true)\n",
      " |-- Longitude: double (nullable = true)\n",
      " |-- Location: string (nullable = true)\n",
      "\n"
     ]
    }
   ],
   "source": [
    "#Printing the schema to verify the change\n",
    "dataframe.printSchema()\n"
   ]
  },
  {
   "cell_type": "code",
   "execution_count": 14,
   "id": "3742657f",
   "metadata": {},
   "outputs": [
    {
     "name": "stdout",
     "output_type": "stream",
     "text": [
      "+--------+----------+-------------------+--------------------+----+--------------------+--------------------+--------------------+------+--------+----+--------+----+-------------+-------+-----------+-----------+----+--------------------+------------+-------------+--------------------+\n",
      "|      ID|CaseNumber|               Date|               Block|IUCR|         PrimaryType|         Description| LocationDescription|Arrest|Domestic|Beat|District|Ward|CommunityArea|FBICode|XCoordinate|YCoordinate|Year|           UpdatedOn|    Latitude|    Longitude|            Location|\n",
      "+--------+----------+-------------------+--------------------+----+--------------------+--------------------+--------------------+------+--------+----+--------+----+-------------+-------+-----------+-----------+----+--------------------+------------+-------------+--------------------+\n",
      "|12045583|  JD226426|2020-05-07 10:24:00| 035XX S INDIANA AVE|0820|               THEFT|      $500 AND UNDER|           APARTMENT| false|   false| 212|       2|   3|           35|     06|    1178180|    1881621|2020|05/14/2020 08:47:...|41.830481843|-87.621751752|(41.830481843, -8...|\n",
      "|12031001|  JD209965|2020-04-16 05:00:00|     005XX W 32ND ST|0460|             BATTERY|              SIMPLE|           APARTMENT|  true|   false| 915|       9|  11|           60|    08B|    1173292|    1883705|2020|04/23/2020 03:45:...|41.836310224|-87.639624112|(41.836310224, -8...|\n",
      "|12093529|  JD282112|2020-07-01 10:16:00|   081XX S COLES AVE|051A|             ASSAULT|AGGRAVATED - HANDGUN|              STREET|  true|   false| 422|       4|   7|           46|    04A|    1198234|    1851595|2020|07/08/2020 03:41:...|41.747609555|-87.549179329|(41.747609555, -8...|\n",
      "|12178140|  JD381597|2020-09-27 23:29:00| 065XX S WOLCOTT AVE|0460|             BATTERY|              SIMPLE|RESIDENCE - PORCH...| false|   false| 726|       7|  15|           67|    08B|    1164812|    1861251|2020|10/04/2020 03:43:...| 41.77487752|-87.671374872|(41.77487752, -87...|\n",
      "| 4144897|  HL474854|2005-07-10 15:00:00| 062XX S ABERDEEN ST|0430|             BATTERY|AGGRAVATED: OTHER...|              STREET| false|   false| 712|       7|  16|           68|    04B|    1170050|    1863524|2005|02/28/2018 03:56:...|41.781002663|-87.652107119|(41.781002663, -8...|\n",
      "|12126129|  JD321064|2020-08-04 20:28:00| 081XX S LOOMIS BLVD|143A|   WEAPONS VIOLATION|UNLAWFUL POSSESSI...|              STREET|  true|   false| 613|       6|  21|           71|     15|    1168412|    1850836|2020|08/11/2020 03:42:...|41.746220584|-87.658477307|(41.746220584, -8...|\n",
      "|12010314|  JD186932|2020-03-15 21:00:00|    051XX W HURON ST|2820|       OTHER OFFENSE|    TELEPHONE THREAT|           APARTMENT| false|   false|1531|      15|  37|           25|    08A|    1141763|    1904131|2020|03/22/2020 03:41:...|41.893002363|-87.754811709|(41.893002363, -8...|\n",
      "|12067286|  JD251718|2020-06-02 22:00:00| 042XX S EMERALD AVE|0820|               THEFT|      $500 AND UNDER|              STREET|  true|   false| 925|       9|  11|           61|     06|    1172009|    1876708|2020|06/09/2020 03:43:...|41.817138145|-87.644537728|(41.817138145, -8...|\n",
      "| 4229528|  HL545852|2005-08-12 23:00:00|063XX S COTTAGE G...|3730|INTERFERENCE WITH...| OBSTRUCTING JUSTICE|            SIDEWALK|  true|   false| 312|       3|  20|           42|     24|    1182654|    1863077|2005|02/28/2018 03:56:...|41.779492755|-87.605912536|(41.779492755, -8...|\n",
      "|12163191|  JD364357|2020-09-11 22:44:00|008XX N TRUMBULL AVE|0486|             BATTERY|DOMESTIC BATTERY ...|           RESIDENCE|  true|    true|1121|      11|  27|           23|    08B|    1153223|    1905475|2020|09/07/2021 03:41:...|41.896470682|-87.712687444|(41.896470682, -8...|\n",
      "|12142075|  JD339709|2020-08-21 00:00:00|015XX N MILWAUKEE...|0420|             BATTERY|AGGRAVATED - KNIF...|            SIDEWALK| false|   false|1424|      14|   1|           24|    04B|    1163078|    1910357|2020|08/28/2020 03:42:...| 41.90966592|-87.676354472|(41.90966592, -87...|\n",
      "|12005594|  JD181480|2020-03-11 00:00:00|     040XX W 26TH ST|0860|               THEFT|        RETAIL THEFT|  SMALL RETAIL STORE| false|   false|1031|      10|  22|           30|     06|    1150021|    1886423|2020|03/18/2020 03:41:...|41.844252757|-87.724943845|(41.844252757, -8...|\n",
      "|12070567|  JD249245|2020-06-01 01:20:00|024XX N MILWAUKEE...|0620|            BURGLARY|      UNLAWFUL ENTRY|  SMALL RETAIL STORE| false|   false|1414|      14|   1|           22|     05|    1156086|    1916141|2020|07/06/2020 03:40:...|41.925681769|-87.701883719|(41.925681769, -8...|\n",
      "|12057551|  JD240361|2020-05-23 12:20:00| 068XX S LOOMIS BLVD|0486|             BATTERY|DOMESTIC BATTERY ...|              STREET| false|    true| 724|       7|  17|           67|    08B|    1168179|    1859299|2020|09/07/2021 03:41:...|41.769449202|-87.659088027|(41.769449202, -8...|\n",
      "|12057185|  JD239952|2020-05-22 22:29:00|   0000X N LOREL AVE|2024|           NARCOTICS|POSSESS - HEROIN ...|              STREET|  true|   false|1522|      15|  28|           25|     18|    1140721|    1899686|2020|05/29/2020 03:41:...|41.880823946|-87.758747941|(41.880823946, -8...|\n",
      "|12107263|  JD298884|2020-07-15 22:15:00| 070XX S CHAPPEL AVE|0560|             ASSAULT|              SIMPLE|           APARTMENT| false|    true| 331|       3|   5|           43|    08A|    1191099|    1858560|2020|07/22/2020 03:42:...|41.766897557|-87.575098672|(41.766897557, -8...|\n",
      "|12178347|  JD382022|2020-09-28 10:23:00|038XX W JACKSON BLVD|2820|       OTHER OFFENSE|    TELEPHONE THREAT|     OTHER (SPECIFY)| false|   false|1133|      11|  28|           26|    08A|    1150770|    1898411|2020|10/05/2020 03:40:...|41.877134658|-87.721881801|(41.877134658, -8...|\n",
      "|12164381|  JD361415|2020-09-09 09:23:00|  081XX S VERNON AVE|0560|             ASSAULT|              SIMPLE|           RESIDENCE| false|   false| 631|       6|   6|           44|    08A|    1180660|    1851072|2020|09/16/2020 03:41:...|41.746595831|-87.613590958|(41.746595831, -8...|\n",
      "|12072697|  JD257284|2020-06-06 07:45:00|065XX S UNIVERSIT...|2820|       OTHER OFFENSE|    TELEPHONE THREAT|     OTHER (SPECIFY)| false|   false| 321|       3|   5|           42|    08A|    1184679|    1861785|2020|06/13/2020 03:42:...|41.775900146|-87.598529213|(41.775900146, -8...|\n",
      "|12126191|  JD321188|2020-08-05 01:00:00|025XX S MICHIGAN AVE|0454|             BATTERY|AGGRAVATED P.O. -...|HOSPITAL BUILDING...|  true|   false| 133|       1|   4|           33|    08B|    1177647|    1887564|2020|08/12/2020 03:41:...|41.846801978|-87.623527134|(41.846801978, -8...|\n",
      "+--------+----------+-------------------+--------------------+----+--------------------+--------------------+--------------------+------+--------+----+--------+----+-------------+-------+-----------+-----------+----+--------------------+------------+-------------+--------------------+\n",
      "only showing top 20 rows\n",
      "\n"
     ]
    }
   ],
   "source": [
    "#Showing the first few rows of the DataFrame with the 'Date' column converted\n",
    "dataframe.show()\n"
   ]
  },
  {
   "cell_type": "markdown",
   "id": "a406fdb6",
   "metadata": {},
   "source": [
    "## 5.Filter the data for last ten years."
   ]
  },
  {
   "cell_type": "code",
   "execution_count": 15,
   "id": "5432431b",
   "metadata": {},
   "outputs": [
    {
     "name": "stdout",
     "output_type": "stream",
     "text": [
      "+--------+----------+-------------------+--------------------+----+-----------------+--------------------+--------------------+------+--------+----+--------+----+-------------+-------+-----------+-----------+----+--------------------+------------+-------------+--------------------+\n",
      "|      ID|CaseNumber|               Date|               Block|IUCR|      PrimaryType|         Description| LocationDescription|Arrest|Domestic|Beat|District|Ward|CommunityArea|FBICode|XCoordinate|YCoordinate|Year|           UpdatedOn|    Latitude|    Longitude|            Location|\n",
      "+--------+----------+-------------------+--------------------+----+-----------------+--------------------+--------------------+------+--------+----+--------+----+-------------+-------+-----------+-----------+----+--------------------+------------+-------------+--------------------+\n",
      "|12045583|  JD226426|2020-05-07 10:24:00| 035XX S INDIANA AVE|0820|            THEFT|      $500 AND UNDER|           APARTMENT| false|   false| 212|       2|   3|           35|     06|    1178180|    1881621|2020|05/14/2020 08:47:...|41.830481843|-87.621751752|(41.830481843, -8...|\n",
      "|12031001|  JD209965|2020-04-16 05:00:00|     005XX W 32ND ST|0460|          BATTERY|              SIMPLE|           APARTMENT|  true|   false| 915|       9|  11|           60|    08B|    1173292|    1883705|2020|04/23/2020 03:45:...|41.836310224|-87.639624112|(41.836310224, -8...|\n",
      "|12093529|  JD282112|2020-07-01 10:16:00|   081XX S COLES AVE|051A|          ASSAULT|AGGRAVATED - HANDGUN|              STREET|  true|   false| 422|       4|   7|           46|    04A|    1198234|    1851595|2020|07/08/2020 03:41:...|41.747609555|-87.549179329|(41.747609555, -8...|\n",
      "|12178140|  JD381597|2020-09-27 23:29:00| 065XX S WOLCOTT AVE|0460|          BATTERY|              SIMPLE|RESIDENCE - PORCH...| false|   false| 726|       7|  15|           67|    08B|    1164812|    1861251|2020|10/04/2020 03:43:...| 41.77487752|-87.671374872|(41.77487752, -87...|\n",
      "|12126129|  JD321064|2020-08-04 20:28:00| 081XX S LOOMIS BLVD|143A|WEAPONS VIOLATION|UNLAWFUL POSSESSI...|              STREET|  true|   false| 613|       6|  21|           71|     15|    1168412|    1850836|2020|08/11/2020 03:42:...|41.746220584|-87.658477307|(41.746220584, -8...|\n",
      "|12010314|  JD186932|2020-03-15 21:00:00|    051XX W HURON ST|2820|    OTHER OFFENSE|    TELEPHONE THREAT|           APARTMENT| false|   false|1531|      15|  37|           25|    08A|    1141763|    1904131|2020|03/22/2020 03:41:...|41.893002363|-87.754811709|(41.893002363, -8...|\n",
      "|12067286|  JD251718|2020-06-02 22:00:00| 042XX S EMERALD AVE|0820|            THEFT|      $500 AND UNDER|              STREET|  true|   false| 925|       9|  11|           61|     06|    1172009|    1876708|2020|06/09/2020 03:43:...|41.817138145|-87.644537728|(41.817138145, -8...|\n",
      "|12163191|  JD364357|2020-09-11 22:44:00|008XX N TRUMBULL AVE|0486|          BATTERY|DOMESTIC BATTERY ...|           RESIDENCE|  true|    true|1121|      11|  27|           23|    08B|    1153223|    1905475|2020|09/07/2021 03:41:...|41.896470682|-87.712687444|(41.896470682, -8...|\n",
      "|12142075|  JD339709|2020-08-21 00:00:00|015XX N MILWAUKEE...|0420|          BATTERY|AGGRAVATED - KNIF...|            SIDEWALK| false|   false|1424|      14|   1|           24|    04B|    1163078|    1910357|2020|08/28/2020 03:42:...| 41.90966592|-87.676354472|(41.90966592, -87...|\n",
      "|12005594|  JD181480|2020-03-11 00:00:00|     040XX W 26TH ST|0860|            THEFT|        RETAIL THEFT|  SMALL RETAIL STORE| false|   false|1031|      10|  22|           30|     06|    1150021|    1886423|2020|03/18/2020 03:41:...|41.844252757|-87.724943845|(41.844252757, -8...|\n",
      "|12070567|  JD249245|2020-06-01 01:20:00|024XX N MILWAUKEE...|0620|         BURGLARY|      UNLAWFUL ENTRY|  SMALL RETAIL STORE| false|   false|1414|      14|   1|           22|     05|    1156086|    1916141|2020|07/06/2020 03:40:...|41.925681769|-87.701883719|(41.925681769, -8...|\n",
      "|12057551|  JD240361|2020-05-23 12:20:00| 068XX S LOOMIS BLVD|0486|          BATTERY|DOMESTIC BATTERY ...|              STREET| false|    true| 724|       7|  17|           67|    08B|    1168179|    1859299|2020|09/07/2021 03:41:...|41.769449202|-87.659088027|(41.769449202, -8...|\n",
      "|12057185|  JD239952|2020-05-22 22:29:00|   0000X N LOREL AVE|2024|        NARCOTICS|POSSESS - HEROIN ...|              STREET|  true|   false|1522|      15|  28|           25|     18|    1140721|    1899686|2020|05/29/2020 03:41:...|41.880823946|-87.758747941|(41.880823946, -8...|\n",
      "|12107263|  JD298884|2020-07-15 22:15:00| 070XX S CHAPPEL AVE|0560|          ASSAULT|              SIMPLE|           APARTMENT| false|    true| 331|       3|   5|           43|    08A|    1191099|    1858560|2020|07/22/2020 03:42:...|41.766897557|-87.575098672|(41.766897557, -8...|\n",
      "|12178347|  JD382022|2020-09-28 10:23:00|038XX W JACKSON BLVD|2820|    OTHER OFFENSE|    TELEPHONE THREAT|     OTHER (SPECIFY)| false|   false|1133|      11|  28|           26|    08A|    1150770|    1898411|2020|10/05/2020 03:40:...|41.877134658|-87.721881801|(41.877134658, -8...|\n",
      "|12164381|  JD361415|2020-09-09 09:23:00|  081XX S VERNON AVE|0560|          ASSAULT|              SIMPLE|           RESIDENCE| false|   false| 631|       6|   6|           44|    08A|    1180660|    1851072|2020|09/16/2020 03:41:...|41.746595831|-87.613590958|(41.746595831, -8...|\n",
      "|12072697|  JD257284|2020-06-06 07:45:00|065XX S UNIVERSIT...|2820|    OTHER OFFENSE|    TELEPHONE THREAT|     OTHER (SPECIFY)| false|   false| 321|       3|   5|           42|    08A|    1184679|    1861785|2020|06/13/2020 03:42:...|41.775900146|-87.598529213|(41.775900146, -8...|\n",
      "|12126191|  JD321188|2020-08-05 01:00:00|025XX S MICHIGAN AVE|0454|          BATTERY|AGGRAVATED P.O. -...|HOSPITAL BUILDING...|  true|   false| 133|       1|   4|           33|    08B|    1177647|    1887564|2020|08/12/2020 03:41:...|41.846801978|-87.623527134|(41.846801978, -8...|\n",
      "|12018869|  JD196508|2020-03-27 23:20:00|066XX S SPAULDING...|141A|WEAPONS VIOLATION|UNLAWFUL USE - HA...|              STREET| false|   false| 831|       8|  15|           66|     15|    1155539|    1860219|2020|04/03/2020 03:58:...|41.772236394|-87.705396225|(41.772236394, -8...|\n",
      "|12068919|  JD253635|2020-06-04 14:15:00| 010XX W DIVISION ST|2820|    OTHER OFFENSE|    TELEPHONE THREAT|     OTHER (SPECIFY)| false|   false|1822|      18|  27|            8|    08A|    1169314|    1908181|2020|06/11/2020 03:42:...|41.903561493|-87.653509519|(41.903561493, -8...|\n",
      "+--------+----------+-------------------+--------------------+----+-----------------+--------------------+--------------------+------+--------+----+--------+----+-------------+-------+-----------+-----------+----+--------------------+------------+-------------+--------------------+\n",
      "only showing top 20 rows\n",
      "\n"
     ]
    }
   ],
   "source": [
    "#Filtering the DataFrame for records with 'Year' greater than or equal to 2013\n",
    "dataframe = dataframe.filter(dataframe[\"Year\"] >= 2013)\n",
    "\n",
    "#Showing the filtered DataFrame\n",
    "dataframe.show()\n"
   ]
  },
  {
   "cell_type": "markdown",
   "id": "5f3ff1f4",
   "metadata": {},
   "source": [
    "## 6.Remove all the records with the following crime types:\n",
    "##### 1.'NON-CRIMINAL (SUBJECT SPECIFIED)'\n",
    "##### 2.'OTHER OFFENSE'\n",
    "##### 3.'STALKING'\n",
    "##### 4.'NON - CRIMINAL'\n",
    "##### 5.'ARSON'"
   ]
  },
  {
   "cell_type": "code",
   "execution_count": 16,
   "id": "37317813",
   "metadata": {},
   "outputs": [
    {
     "name": "stdout",
     "output_type": "stream",
     "text": [
      "+--------+----------+-------------------+--------------------+----+-------------------+--------------------+--------------------+------+--------+----+--------+----+-------------+-------+-----------+-----------+----+--------------------+------------+-------------+--------------------+\n",
      "|      ID|CaseNumber|               Date|               Block|IUCR|        PrimaryType|         Description| LocationDescription|Arrest|Domestic|Beat|District|Ward|CommunityArea|FBICode|XCoordinate|YCoordinate|Year|           UpdatedOn|    Latitude|    Longitude|            Location|\n",
      "+--------+----------+-------------------+--------------------+----+-------------------+--------------------+--------------------+------+--------+----+--------+----+-------------+-------+-----------+-----------+----+--------------------+------------+-------------+--------------------+\n",
      "|12045583|  JD226426|2020-05-07 10:24:00| 035XX S INDIANA AVE|0820|              THEFT|      $500 AND UNDER|           APARTMENT| false|   false| 212|       2|   3|           35|     06|    1178180|    1881621|2020|05/14/2020 08:47:...|41.830481843|-87.621751752|(41.830481843, -8...|\n",
      "|12031001|  JD209965|2020-04-16 05:00:00|     005XX W 32ND ST|0460|            BATTERY|              SIMPLE|           APARTMENT|  true|   false| 915|       9|  11|           60|    08B|    1173292|    1883705|2020|04/23/2020 03:45:...|41.836310224|-87.639624112|(41.836310224, -8...|\n",
      "|12093529|  JD282112|2020-07-01 10:16:00|   081XX S COLES AVE|051A|            ASSAULT|AGGRAVATED - HANDGUN|              STREET|  true|   false| 422|       4|   7|           46|    04A|    1198234|    1851595|2020|07/08/2020 03:41:...|41.747609555|-87.549179329|(41.747609555, -8...|\n",
      "|12178140|  JD381597|2020-09-27 23:29:00| 065XX S WOLCOTT AVE|0460|            BATTERY|              SIMPLE|RESIDENCE - PORCH...| false|   false| 726|       7|  15|           67|    08B|    1164812|    1861251|2020|10/04/2020 03:43:...| 41.77487752|-87.671374872|(41.77487752, -87...|\n",
      "|12126129|  JD321064|2020-08-04 20:28:00| 081XX S LOOMIS BLVD|143A|  WEAPONS VIOLATION|UNLAWFUL POSSESSI...|              STREET|  true|   false| 613|       6|  21|           71|     15|    1168412|    1850836|2020|08/11/2020 03:42:...|41.746220584|-87.658477307|(41.746220584, -8...|\n",
      "|12067286|  JD251718|2020-06-02 22:00:00| 042XX S EMERALD AVE|0820|              THEFT|      $500 AND UNDER|              STREET|  true|   false| 925|       9|  11|           61|     06|    1172009|    1876708|2020|06/09/2020 03:43:...|41.817138145|-87.644537728|(41.817138145, -8...|\n",
      "|12163191|  JD364357|2020-09-11 22:44:00|008XX N TRUMBULL AVE|0486|            BATTERY|DOMESTIC BATTERY ...|           RESIDENCE|  true|    true|1121|      11|  27|           23|    08B|    1153223|    1905475|2020|09/07/2021 03:41:...|41.896470682|-87.712687444|(41.896470682, -8...|\n",
      "|12142075|  JD339709|2020-08-21 00:00:00|015XX N MILWAUKEE...|0420|            BATTERY|AGGRAVATED - KNIF...|            SIDEWALK| false|   false|1424|      14|   1|           24|    04B|    1163078|    1910357|2020|08/28/2020 03:42:...| 41.90966592|-87.676354472|(41.90966592, -87...|\n",
      "|12005594|  JD181480|2020-03-11 00:00:00|     040XX W 26TH ST|0860|              THEFT|        RETAIL THEFT|  SMALL RETAIL STORE| false|   false|1031|      10|  22|           30|     06|    1150021|    1886423|2020|03/18/2020 03:41:...|41.844252757|-87.724943845|(41.844252757, -8...|\n",
      "|12070567|  JD249245|2020-06-01 01:20:00|024XX N MILWAUKEE...|0620|           BURGLARY|      UNLAWFUL ENTRY|  SMALL RETAIL STORE| false|   false|1414|      14|   1|           22|     05|    1156086|    1916141|2020|07/06/2020 03:40:...|41.925681769|-87.701883719|(41.925681769, -8...|\n",
      "|12057551|  JD240361|2020-05-23 12:20:00| 068XX S LOOMIS BLVD|0486|            BATTERY|DOMESTIC BATTERY ...|              STREET| false|    true| 724|       7|  17|           67|    08B|    1168179|    1859299|2020|09/07/2021 03:41:...|41.769449202|-87.659088027|(41.769449202, -8...|\n",
      "|12057185|  JD239952|2020-05-22 22:29:00|   0000X N LOREL AVE|2024|          NARCOTICS|POSSESS - HEROIN ...|              STREET|  true|   false|1522|      15|  28|           25|     18|    1140721|    1899686|2020|05/29/2020 03:41:...|41.880823946|-87.758747941|(41.880823946, -8...|\n",
      "|12107263|  JD298884|2020-07-15 22:15:00| 070XX S CHAPPEL AVE|0560|            ASSAULT|              SIMPLE|           APARTMENT| false|    true| 331|       3|   5|           43|    08A|    1191099|    1858560|2020|07/22/2020 03:42:...|41.766897557|-87.575098672|(41.766897557, -8...|\n",
      "|12164381|  JD361415|2020-09-09 09:23:00|  081XX S VERNON AVE|0560|            ASSAULT|              SIMPLE|           RESIDENCE| false|   false| 631|       6|   6|           44|    08A|    1180660|    1851072|2020|09/16/2020 03:41:...|41.746595831|-87.613590958|(41.746595831, -8...|\n",
      "|12126191|  JD321188|2020-08-05 01:00:00|025XX S MICHIGAN AVE|0454|            BATTERY|AGGRAVATED P.O. -...|HOSPITAL BUILDING...|  true|   false| 133|       1|   4|           33|    08B|    1177647|    1887564|2020|08/12/2020 03:41:...|41.846801978|-87.623527134|(41.846801978, -8...|\n",
      "|12018869|  JD196508|2020-03-27 23:20:00|066XX S SPAULDING...|141A|  WEAPONS VIOLATION|UNLAWFUL USE - HA...|              STREET| false|   false| 831|       8|  15|           66|     15|    1155539|    1860219|2020|04/03/2020 03:58:...|41.772236394|-87.705396225|(41.772236394, -8...|\n",
      "|12044629|  JD225380|2020-05-05 22:00:00|   079XX S THROOP ST|0810|              THEFT|           OVER $500|              STREET| false|   false| 612|       6|  21|           71|     06|    1169042|    1851982|2020|05/12/2020 03:42:...|41.749351783|-87.656135797|(41.749351783, -8...|\n",
      "|12157580|  JD357987|2020-09-05 23:50:00| 022XX W MAYPOLE AVE|0486|            BATTERY|DOMESTIC BATTERY ...|       CHA APARTMENT| false|    true|1223|      12|  27|           28|    08B|    1161251|    1900967|2020|09/12/2020 03:41:...|41.883937205|-87.683327432|(41.883937205, -8...|\n",
      "|12045468|  JD225478|2020-05-05 22:00:00|    104XX S AVENUE M|0910|MOTOR VEHICLE THEFT|          AUTOMOBILE|DRIVEWAY - RESIDE...| false|   false| 432|       4|  10|           52|     07|    1201505|    1836426|2020|05/12/2020 03:42:...|41.705902269|-87.537707456|(41.705902269, -8...|\n",
      "|12132877|  JD329246|2020-08-12 02:20:00|102XX S DR MARTIN...|1310|    CRIMINAL DAMAGE|         TO PROPERTY|           RESIDENCE| false|   false| 511|       5|   9|           49|     14|    1180720|    1837168|2020|08/19/2020 03:51:...|41.708440181|-87.613796977|(41.708440181, -8...|\n",
      "+--------+----------+-------------------+--------------------+----+-------------------+--------------------+--------------------+------+--------+----+--------+----+-------------+-------+-----------+-----------+----+--------------------+------------+-------------+--------------------+\n",
      "only showing top 20 rows\n",
      "\n"
     ]
    }
   ],
   "source": [
    "#Defining the list of crime types to remove\n",
    "crime_types_to_remove = [\n",
    "    \"NON-CRIMINAL (SUBJECT SPECIFIED)\",\n",
    "    \"OTHER OFFENSE\",\n",
    "    \"STALKING\",\n",
    "    \"NON - CRIMINAL\",\n",
    "    \"ARSON\"\n",
    "]\n",
    "\n",
    "#Removing records with the specified crime types\n",
    "dataframe = dataframe.filter(~dataframe[\"PrimaryType\"].isin(crime_types_to_remove))\n",
    "\n",
    "#Showing the DataFrame with the specified crime types removed\n",
    "dataframe.show()\n"
   ]
  },
  {
   "cell_type": "markdown",
   "id": "cbea3021",
   "metadata": {},
   "source": [
    "## 7.Merge the similar crime types.\n",
    "### For example, change 'Primary Type' of cases that have 'Primary Type' as ‘SEX OFFENSE’ or ‘PROSTITUTION’ such that they should have the same 'Primary Type'."
   ]
  },
  {
   "cell_type": "code",
   "execution_count": 17,
   "id": "c2578615",
   "metadata": {},
   "outputs": [
    {
     "name": "stdout",
     "output_type": "stream",
     "text": [
      "+--------+----------+-------------------+--------------------+----+-------------------+--------------------+--------------------+------+--------+----+--------+----+-------------+-------+-----------+-----------+----+--------------------+------------+-------------+--------------------+\n",
      "|      ID|CaseNumber|               Date|               Block|IUCR|        PrimaryType|         Description| LocationDescription|Arrest|Domestic|Beat|District|Ward|CommunityArea|FBICode|XCoordinate|YCoordinate|Year|           UpdatedOn|    Latitude|    Longitude|            Location|\n",
      "+--------+----------+-------------------+--------------------+----+-------------------+--------------------+--------------------+------+--------+----+--------+----+-------------+-------+-----------+-----------+----+--------------------+------------+-------------+--------------------+\n",
      "|12045583|  JD226426|2020-05-07 10:24:00| 035XX S INDIANA AVE|0820|     PROPERTY CRIME|      $500 AND UNDER|           APARTMENT| false|   false| 212|       2|   3|           35|     06|    1178180|    1881621|2020|05/14/2020 08:47:...|41.830481843|-87.621751752|(41.830481843, -8...|\n",
      "|12031001|  JD209965|2020-04-16 05:00:00|     005XX W 32ND ST|0460|            ASSAULT|              SIMPLE|           APARTMENT|  true|   false| 915|       9|  11|           60|    08B|    1173292|    1883705|2020|04/23/2020 03:45:...|41.836310224|-87.639624112|(41.836310224, -8...|\n",
      "|12093529|  JD282112|2020-07-01 10:16:00|   081XX S COLES AVE|051A|            ASSAULT|AGGRAVATED - HANDGUN|              STREET|  true|   false| 422|       4|   7|           46|    04A|    1198234|    1851595|2020|07/08/2020 03:41:...|41.747609555|-87.549179329|(41.747609555, -8...|\n",
      "|12178140|  JD381597|2020-09-27 23:29:00| 065XX S WOLCOTT AVE|0460|            ASSAULT|              SIMPLE|RESIDENCE - PORCH...| false|   false| 726|       7|  15|           67|    08B|    1164812|    1861251|2020|10/04/2020 03:43:...| 41.77487752|-87.671374872|(41.77487752, -87...|\n",
      "|12126129|  JD321064|2020-08-04 20:28:00| 081XX S LOOMIS BLVD|143A|  WEAPONS VIOLATION|UNLAWFUL POSSESSI...|              STREET|  true|   false| 613|       6|  21|           71|     15|    1168412|    1850836|2020|08/11/2020 03:42:...|41.746220584|-87.658477307|(41.746220584, -8...|\n",
      "|12067286|  JD251718|2020-06-02 22:00:00| 042XX S EMERALD AVE|0820|     PROPERTY CRIME|      $500 AND UNDER|              STREET|  true|   false| 925|       9|  11|           61|     06|    1172009|    1876708|2020|06/09/2020 03:43:...|41.817138145|-87.644537728|(41.817138145, -8...|\n",
      "|12163191|  JD364357|2020-09-11 22:44:00|008XX N TRUMBULL AVE|0486|            ASSAULT|DOMESTIC BATTERY ...|           RESIDENCE|  true|    true|1121|      11|  27|           23|    08B|    1153223|    1905475|2020|09/07/2021 03:41:...|41.896470682|-87.712687444|(41.896470682, -8...|\n",
      "|12142075|  JD339709|2020-08-21 00:00:00|015XX N MILWAUKEE...|0420|            ASSAULT|AGGRAVATED - KNIF...|            SIDEWALK| false|   false|1424|      14|   1|           24|    04B|    1163078|    1910357|2020|08/28/2020 03:42:...| 41.90966592|-87.676354472|(41.90966592, -87...|\n",
      "|12005594|  JD181480|2020-03-11 00:00:00|     040XX W 26TH ST|0860|     PROPERTY CRIME|        RETAIL THEFT|  SMALL RETAIL STORE| false|   false|1031|      10|  22|           30|     06|    1150021|    1886423|2020|03/18/2020 03:41:...|41.844252757|-87.724943845|(41.844252757, -8...|\n",
      "|12070567|  JD249245|2020-06-01 01:20:00|024XX N MILWAUKEE...|0620|     PROPERTY CRIME|      UNLAWFUL ENTRY|  SMALL RETAIL STORE| false|   false|1414|      14|   1|           22|     05|    1156086|    1916141|2020|07/06/2020 03:40:...|41.925681769|-87.701883719|(41.925681769, -8...|\n",
      "|12057551|  JD240361|2020-05-23 12:20:00| 068XX S LOOMIS BLVD|0486|            ASSAULT|DOMESTIC BATTERY ...|              STREET| false|    true| 724|       7|  17|           67|    08B|    1168179|    1859299|2020|09/07/2021 03:41:...|41.769449202|-87.659088027|(41.769449202, -8...|\n",
      "|12057185|  JD239952|2020-05-22 22:29:00|   0000X N LOREL AVE|2024|       DRUG OFFENSE|POSSESS - HEROIN ...|              STREET|  true|   false|1522|      15|  28|           25|     18|    1140721|    1899686|2020|05/29/2020 03:41:...|41.880823946|-87.758747941|(41.880823946, -8...|\n",
      "|12107263|  JD298884|2020-07-15 22:15:00| 070XX S CHAPPEL AVE|0560|            ASSAULT|              SIMPLE|           APARTMENT| false|    true| 331|       3|   5|           43|    08A|    1191099|    1858560|2020|07/22/2020 03:42:...|41.766897557|-87.575098672|(41.766897557, -8...|\n",
      "|12164381|  JD361415|2020-09-09 09:23:00|  081XX S VERNON AVE|0560|            ASSAULT|              SIMPLE|           RESIDENCE| false|   false| 631|       6|   6|           44|    08A|    1180660|    1851072|2020|09/16/2020 03:41:...|41.746595831|-87.613590958|(41.746595831, -8...|\n",
      "|12126191|  JD321188|2020-08-05 01:00:00|025XX S MICHIGAN AVE|0454|            ASSAULT|AGGRAVATED P.O. -...|HOSPITAL BUILDING...|  true|   false| 133|       1|   4|           33|    08B|    1177647|    1887564|2020|08/12/2020 03:41:...|41.846801978|-87.623527134|(41.846801978, -8...|\n",
      "|12018869|  JD196508|2020-03-27 23:20:00|066XX S SPAULDING...|141A|  WEAPONS VIOLATION|UNLAWFUL USE - HA...|              STREET| false|   false| 831|       8|  15|           66|     15|    1155539|    1860219|2020|04/03/2020 03:58:...|41.772236394|-87.705396225|(41.772236394, -8...|\n",
      "|12044629|  JD225380|2020-05-05 22:00:00|   079XX S THROOP ST|0810|     PROPERTY CRIME|           OVER $500|              STREET| false|   false| 612|       6|  21|           71|     06|    1169042|    1851982|2020|05/12/2020 03:42:...|41.749351783|-87.656135797|(41.749351783, -8...|\n",
      "|12157580|  JD357987|2020-09-05 23:50:00| 022XX W MAYPOLE AVE|0486|            ASSAULT|DOMESTIC BATTERY ...|       CHA APARTMENT| false|    true|1223|      12|  27|           28|    08B|    1161251|    1900967|2020|09/12/2020 03:41:...|41.883937205|-87.683327432|(41.883937205, -8...|\n",
      "|12045468|  JD225478|2020-05-05 22:00:00|    104XX S AVENUE M|0910|MOTOR VEHICLE THEFT|          AUTOMOBILE|DRIVEWAY - RESIDE...| false|   false| 432|       4|  10|           52|     07|    1201505|    1836426|2020|05/12/2020 03:42:...|41.705902269|-87.537707456|(41.705902269, -8...|\n",
      "|12132877|  JD329246|2020-08-12 02:20:00|102XX S DR MARTIN...|1310|    CRIMINAL DAMAGE|         TO PROPERTY|           RESIDENCE| false|   false| 511|       5|   9|           49|     14|    1180720|    1837168|2020|08/19/2020 03:51:...|41.708440181|-87.613796977|(41.708440181, -8...|\n",
      "+--------+----------+-------------------+--------------------+----+-------------------+--------------------+--------------------+------+--------+----+--------+----+-------------+-------+-----------+-----------+----+--------------------+------------+-------------+--------------------+\n",
      "only showing top 20 rows\n",
      "\n"
     ]
    }
   ],
   "source": [
    "from pyspark.sql.functions import when, col\n",
    "\n",
    "#Defining a dictionary to specify the mappings of crime types\n",
    "crime_type_mappings = {\n",
    "    'CRIMINAL SEXUAL ASSAULT': 'SEX_CRIMES',\n",
    "    'OBSCENITY': 'SEX_CRIMES',\n",
    "    'PROSTITUTION': 'SEX_CRIMES',\n",
    "    'SEX OFFENSE': 'SEX_CRIMES',\n",
    "    'CRIM SEXUAL ASSAULT': 'SEX_CRIMES',\n",
    "    'PUBLIC PEACE VIOLATION': 'PUBLIC INDECENCY',\n",
    "    'PUBLIC INDECENCY': 'PUBLIC INDECENCY',\n",
    "    'ASSAULT': 'ASSAULT',\n",
    "    'BATTERY': 'ASSAULT',\n",
    "    'THEFT': 'PROPERTY CRIME',\n",
    "    'ROBBERY': 'PROPERTY CRIME',\n",
    "    'BURGLARY': 'PROPERTY CRIME',\n",
    "    'NARCOTICS': 'DRUG OFFENSE',\n",
    "    'OTHER NARCOTIC VIOLATION': 'DRUG OFFENSE'\n",
    "}\n",
    "\n",
    "#Creating a new DataFrame with merged crime types using the mappings\n",
    "for primary_type, merged_type in crime_type_mappings.items():\n",
    "    dataframe = dataframe.withColumn(\n",
    "        \"PrimaryType\",\n",
    "        when(col(\"PrimaryType\") == primary_type, merged_type).otherwise(col(\"PrimaryType\"))\n",
    "    )\n",
    "\n",
    "#Showing the DataFrame with merged crime types\n",
    "dataframe.show()\n"
   ]
  },
  {
   "cell_type": "markdown",
   "id": "f7892801",
   "metadata": {},
   "source": [
    "## 8.Analyze the data and present results:"
   ]
  },
  {
   "cell_type": "markdown",
   "id": "c1d16ea6",
   "metadata": {},
   "source": [
    "### 1.Show year-wise trend of the crime for last ten years"
   ]
  },
  {
   "cell_type": "code",
   "execution_count": 18,
   "id": "24a9bc33",
   "metadata": {},
   "outputs": [
    {
     "name": "stdout",
     "output_type": "stream",
     "text": [
      "+----+------+\n",
      "|Year| count|\n",
      "+----+------+\n",
      "|2013|287822|\n",
      "|2014|256123|\n",
      "|2015|239889|\n",
      "|2016|248589|\n",
      "|2017|246560|\n",
      "|2018|245378|\n",
      "|2019|240849|\n",
      "|2020|193864|\n",
      "|2021|187552|\n",
      "|2022|217404|\n",
      "|2023|190540|\n",
      "+----+------+\n",
      "\n"
     ]
    }
   ],
   "source": [
    "from pyspark.sql import functions as F\n",
    "\n",
    "#Calculating the current year\n",
    "current_year = F.year(F.current_date())\n",
    "\n",
    "#Filtering the DataFrame for the last ten years\n",
    "dataframe_last_ten_years = dataframe.filter(dataframe[\"Year\"] >= current_year - 10)\n",
    "\n",
    "#Grouping and counting the data for the last ten years\n",
    "crime_orderwise = dataframe_last_ten_years.groupBy(\"Year\").count().orderBy(\"Year\")\n",
    "crime_orderwise.show()\n"
   ]
  },
  {
   "cell_type": "code",
   "execution_count": 19,
   "id": "a21fd046",
   "metadata": {},
   "outputs": [
    {
     "data": {
      "image/png": "[encoded data removed]",
      "text/plain": [
       "<Figure size 720x432 with 1 Axes>"
      ]
     },
     "metadata": {
      "needs_background": "light"
     },
     "output_type": "display_data"
    }
   ],
   "source": [
    "import matplotlib.pyplot as plt\n",
    "import seaborn as sns\n",
    "\n",
    "#Creating a Pandas DataFrame from the crime_orderwise DataFrame\n",
    "crime_orderwise_df = crime_orderwise.toPandas()\n",
    "\n",
    "#Creating a line plot\n",
    "plt.figure(figsize=(10, 6))\n",
    "sns.lineplot(x=\"Year\", y=\"count\", data=crime_orderwise_df, marker=\"o\")\n",
    "plt.xticks(rotation=60)\n",
    "plt.xlabel(\"Year\")\n",
    "plt.ylabel(\"Total Count\")\n",
    "plt.title(\"Number of Crimes per Year (Line Plot)\")\n",
    "plt.grid()\n",
    "plt.show()\n"
   ]
  },
  {
   "cell_type": "markdown",
   "id": "0d4f0051",
   "metadata": {},
   "source": [
    "### 2.Find out at which hour of the day crime is highest."
   ]
  },
  {
   "cell_type": "code",
   "execution_count": 20,
   "id": "b51b904b",
   "metadata": {},
   "outputs": [
    {
     "name": "stdout",
     "output_type": "stream",
     "text": [
      "The hour with the highest number of crimes is 12 o'clock with 147571 crimes.\n"
     ]
    }
   ],
   "source": [
    "from pyspark.sql.functions import hour\n",
    "\n",
    "#Extracting the hour from the 'Date' column\n",
    "dataframe = dataframe.withColumn(\"Hour\", hour(\"Date\"))\n",
    "\n",
    "#Grouping the data by hour and count the number of crimes for each hour\n",
    "hourly_crime_counts = dataframe.groupBy(\"Hour\").count()\n",
    "\n",
    "#Finding the hour with the highest number of crimes\n",
    "max_hourly_crime = hourly_crime_counts.orderBy(\"count\", ascending=False).first()\n",
    "\n",
    "#Showing the hour with the highest number of crimes\n",
    "print(\"The hour with the highest number of crimes is\", max_hourly_crime[\"Hour\"], \"o'clock with\", max_hourly_crime[\"count\"], \"crimes.\")\n"
   ]
  },
  {
   "cell_type": "code",
   "execution_count": 21,
   "id": "99c45ab3",
   "metadata": {},
   "outputs": [
    {
     "data": {
      "image/png": "[encoded data removed]",
      "text/plain": [
       "<Figure size 864x432 with 1 Axes>"
      ]
     },
     "metadata": {
      "needs_background": "light"
     },
     "output_type": "display_data"
    }
   ],
   "source": [
    "import matplotlib.pyplot as plt\n",
    "import pandas as pd\n",
    "\n",
    "#Converting the DataFrame to a Pandas DataFrame\n",
    "hourly_crime_counts_pd = hourly_crime_counts.toPandas()\n",
    "\n",
    "#Defining custom colors\n",
    "custom_colors = ['blue', 'green', 'red', 'purple', 'orange', 'yellow', 'pink', 'brown']\n",
    "\n",
    "#Plotting the graph with custom colors\n",
    "plt.figure(figsize=(12, 6))\n",
    "bars = plt.bar(hourly_crime_counts_pd[\"Hour\"], hourly_crime_counts_pd[\"count\"], color=custom_colors)\n",
    "\n",
    "#Adding labels and title\n",
    "plt.xlabel(\"Hour of the Day\")\n",
    "plt.ylabel(\"Number of Crimes\")\n",
    "plt.title(\"Number of Crimes by Hour of the Day\")\n",
    "\n",
    "#Showing the plot\n",
    "plt.show()"
   ]
  },
  {
   "cell_type": "markdown",
   "id": "8fb02015",
   "metadata": {},
   "source": [
    "### 3.Find top ten crimes and present them as a bar chart."
   ]
  },
  {
   "cell_type": "code",
   "execution_count": 22,
   "id": "067ae99d",
   "metadata": {},
   "outputs": [
    {
     "data": {
      "text/html": [
       "<div>\n",
       "<style scoped>\n",
       "    .dataframe tbody tr th:only-of-type {\n",
       "        vertical-align: middle;\n",
       "    }\n",
       "\n",
       "    .dataframe tbody tr th {\n",
       "        vertical-align: top;\n",
       "    }\n",
       "\n",
       "    .dataframe thead th {\n",
       "        text-align: right;\n",
       "    }\n",
       "</style>\n",
       "<table border=\"1\" class=\"dataframe\">\n",
       "  <thead>\n",
       "    <tr style=\"text-align: right;\">\n",
       "      <th></th>\n",
       "      <th>PrimaryType</th>\n",
       "      <th>count</th>\n",
       "    </tr>\n",
       "  </thead>\n",
       "  <tbody>\n",
       "    <tr>\n",
       "      <th>0</th>\n",
       "      <td>PROPERTY CRIME</td>\n",
       "      <td>844479</td>\n",
       "    </tr>\n",
       "    <tr>\n",
       "      <th>1</th>\n",
       "      <td>ASSAULT</td>\n",
       "      <td>715807</td>\n",
       "    </tr>\n",
       "    <tr>\n",
       "      <th>2</th>\n",
       "      <td>CRIMINAL DAMAGE</td>\n",
       "      <td>301458</td>\n",
       "    </tr>\n",
       "    <tr>\n",
       "      <th>3</th>\n",
       "      <td>DECEPTIVE PRACTICE</td>\n",
       "      <td>167670</td>\n",
       "    </tr>\n",
       "    <tr>\n",
       "      <th>4</th>\n",
       "      <td>DRUG OFFENSE</td>\n",
       "      <td>156468</td>\n",
       "    </tr>\n",
       "    <tr>\n",
       "      <th>5</th>\n",
       "      <td>MOTOR VEHICLE THEFT</td>\n",
       "      <td>138967</td>\n",
       "    </tr>\n",
       "    <tr>\n",
       "      <th>6</th>\n",
       "      <td>CRIMINAL TRESPASS</td>\n",
       "      <td>64247</td>\n",
       "    </tr>\n",
       "    <tr>\n",
       "      <th>7</th>\n",
       "      <td>WEAPONS VIOLATION</td>\n",
       "      <td>62699</td>\n",
       "    </tr>\n",
       "    <tr>\n",
       "      <th>8</th>\n",
       "      <td>SEX_CRIMES</td>\n",
       "      <td>35382</td>\n",
       "    </tr>\n",
       "    <tr>\n",
       "      <th>9</th>\n",
       "      <td>OFFENSE INVOLVING CHILDREN</td>\n",
       "      <td>22491</td>\n",
       "    </tr>\n",
       "  </tbody>\n",
       "</table>\n",
       "</div>"
      ],
      "text/plain": [
       "                  PrimaryType   count\n",
       "0              PROPERTY CRIME  844479\n",
       "1                     ASSAULT  715807\n",
       "2             CRIMINAL DAMAGE  301458\n",
       "3          DECEPTIVE PRACTICE  167670\n",
       "4                DRUG OFFENSE  156468\n",
       "5         MOTOR VEHICLE THEFT  138967\n",
       "6           CRIMINAL TRESPASS   64247\n",
       "7           WEAPONS VIOLATION   62699\n",
       "8                  SEX_CRIMES   35382\n",
       "9  OFFENSE INVOLVING CHILDREN   22491"
      ]
     },
     "execution_count": 22,
     "metadata": {},
     "output_type": "execute_result"
    }
   ],
   "source": [
    "import matplotlib.pyplot as plt\n",
    "import seaborn as sns\n",
    "\n",
    "#Grouping data by 'PrimaryType' and count the number of occurrences\n",
    "top_crimes = dataframe.groupBy(\"PrimaryType\").count()\n",
    "\n",
    "#Ordering by count in descending order\n",
    "top_crimes = top_crimes.orderBy(\"count\", ascending=False)\n",
    "\n",
    "#Limiting to the top ten crimes\n",
    "top_ten_crimes = top_crimes.limit(10)\n",
    "\n",
    "top_ten_crimes_df = top_ten_crimes.toPandas()\n",
    "\n",
    "top_ten_crimes_df"
   ]
  },
  {
   "cell_type": "code",
   "execution_count": 23,
   "id": "993e51c2",
   "metadata": {},
   "outputs": [
    {
     "data": {
      "image/png": "[encoded data removed]",
      "text/plain": [
       "<Figure size 720x432 with 1 Axes>"
      ]
     },
     "metadata": {
      "needs_background": "light"
     },
     "output_type": "display_data"
    }
   ],
   "source": [
    "#Creating a horizontal bar chart\n",
    "plt.figure(figsize=(10, 6))\n",
    "sns.barplot(x=\"count\", y=\"PrimaryType\", data=top_ten_crimes_df, palette=\"viridis\")\n",
    "plt.xlabel(\"Number of Crimes\")\n",
    "plt.ylabel(\"Crime Type\")\n",
    "plt.title(\"Top Ten Crimes\")\n",
    "plt.show()"
   ]
  },
  {
   "cell_type": "code",
   "execution_count": 24,
   "id": "03efec0d",
   "metadata": {},
   "outputs": [],
   "source": [
    "#Stoping the Spark session\n",
    "spark.stop()"
   ]
  }
 ],
 "metadata": {
  "kernelspec": {
   "display_name": "Python 3 (ipykernel)",
   "language": "python",
   "name": "python3"
  },
  "language_info": {
   "codemirror_mode": {
    "name": "ipython",
    "version": 3
   },
   "file_extension": ".py",
   "mimetype": "text/x-python",
   "name": "python",
   "nbconvert_exporter": "python",
   "pygments_lexer": "ipython3",
   "version": "3.9.12"
  }
 },
 "nbformat": 4,
 "nbformat_minor": 5
}
